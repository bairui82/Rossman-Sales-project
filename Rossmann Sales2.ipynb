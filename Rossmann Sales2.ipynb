{
 "cells": [
  {
   "cell_type": "code",
   "execution_count": 1,
   "metadata": {
    "collapsed": true
   },
   "outputs": [],
   "source": [
    "# 检查你的Python版本\n",
    "from sys import version_info\n",
    "if version_info.major != 2 and version_info.minor != 7:\n",
    "    raise Exception('请使用Python 2.7来完成此项目')"
   ]
  },
  {
   "cell_type": "code",
   "execution_count": 2,
   "metadata": {},
   "outputs": [
    {
     "name": "stderr",
     "output_type": "stream",
     "text": [
      "/home/bairui/anaconda2/lib/python2.7/site-packages/IPython/core/interactiveshell.py:2718: DtypeWarning: Columns (7) have mixed types. Specify dtype option on import or set low_memory=False.\n",
      "  interactivity=interactivity, compiler=compiler, result=result)\n"
     ]
    }
   ],
   "source": [
    "# 引入这个项目需要的库\n",
    "import numpy as np\n",
    "import pandas as pd\n",
    "import matplotlib.pyplot as plt\n",
    "import seaborn as sns\n",
    "from IPython.display import display # 使得我们可以对DataFrame使用display()函数\n",
    "import xgboost as xgb\n",
    "from time import time\n",
    "\n",
    "# 设置以内联的形式显示matplotlib绘制的图片（在notebook中显示更美观）\n",
    "%matplotlib inline\n",
    "\n",
    "# 载入客户数据集\n",
    "try:\n",
    "    df_train = pd.read_csv(\"train.csv\")\n",
    "    df_store = pd.read_csv(\"store.csv\")\n",
    "except:\n",
    "    print \"Dataset could not be loaded. Is the dataset missing?\""
   ]
  },
  {
   "cell_type": "code",
   "execution_count": null,
   "metadata": {
    "collapsed": true
   },
   "outputs": [],
   "source": [
    "df_train.head()"
   ]
  },
  {
   "cell_type": "code",
   "execution_count": 3,
   "metadata": {},
   "outputs": [
    {
     "data": {
      "text/html": [
       "<div>\n",
       "<style scoped>\n",
       "    .dataframe tbody tr th:only-of-type {\n",
       "        vertical-align: middle;\n",
       "    }\n",
       "\n",
       "    .dataframe tbody tr th {\n",
       "        vertical-align: top;\n",
       "    }\n",
       "\n",
       "    .dataframe thead th {\n",
       "        text-align: right;\n",
       "    }\n",
       "</style>\n",
       "<table border=\"1\" class=\"dataframe\">\n",
       "  <thead>\n",
       "    <tr style=\"text-align: right;\">\n",
       "      <th></th>\n",
       "      <th>Store</th>\n",
       "      <th>DayOfWeek</th>\n",
       "      <th>Date</th>\n",
       "      <th>Sales</th>\n",
       "      <th>Customers</th>\n",
       "      <th>Open</th>\n",
       "      <th>Promo</th>\n",
       "      <th>StateHoliday</th>\n",
       "      <th>SchoolHoliday</th>\n",
       "    </tr>\n",
       "  </thead>\n",
       "  <tbody>\n",
       "    <tr>\n",
       "      <th>0</th>\n",
       "      <td>1</td>\n",
       "      <td>5</td>\n",
       "      <td>2015-07-31</td>\n",
       "      <td>5263</td>\n",
       "      <td>555</td>\n",
       "      <td>1</td>\n",
       "      <td>1</td>\n",
       "      <td>0</td>\n",
       "      <td>1</td>\n",
       "    </tr>\n",
       "    <tr>\n",
       "      <th>1</th>\n",
       "      <td>2</td>\n",
       "      <td>5</td>\n",
       "      <td>2015-07-31</td>\n",
       "      <td>6064</td>\n",
       "      <td>625</td>\n",
       "      <td>1</td>\n",
       "      <td>1</td>\n",
       "      <td>0</td>\n",
       "      <td>1</td>\n",
       "    </tr>\n",
       "    <tr>\n",
       "      <th>2</th>\n",
       "      <td>3</td>\n",
       "      <td>5</td>\n",
       "      <td>2015-07-31</td>\n",
       "      <td>8314</td>\n",
       "      <td>821</td>\n",
       "      <td>1</td>\n",
       "      <td>1</td>\n",
       "      <td>0</td>\n",
       "      <td>1</td>\n",
       "    </tr>\n",
       "    <tr>\n",
       "      <th>3</th>\n",
       "      <td>4</td>\n",
       "      <td>5</td>\n",
       "      <td>2015-07-31</td>\n",
       "      <td>13995</td>\n",
       "      <td>1498</td>\n",
       "      <td>1</td>\n",
       "      <td>1</td>\n",
       "      <td>0</td>\n",
       "      <td>1</td>\n",
       "    </tr>\n",
       "    <tr>\n",
       "      <th>4</th>\n",
       "      <td>5</td>\n",
       "      <td>5</td>\n",
       "      <td>2015-07-31</td>\n",
       "      <td>4822</td>\n",
       "      <td>559</td>\n",
       "      <td>1</td>\n",
       "      <td>1</td>\n",
       "      <td>0</td>\n",
       "      <td>1</td>\n",
       "    </tr>\n",
       "  </tbody>\n",
       "</table>\n",
       "</div>"
      ],
      "text/plain": [
       "   Store  DayOfWeek        Date  Sales  Customers  Open  Promo StateHoliday  \\\n",
       "0      1          5  2015-07-31   5263        555     1      1            0   \n",
       "1      2          5  2015-07-31   6064        625     1      1            0   \n",
       "2      3          5  2015-07-31   8314        821     1      1            0   \n",
       "3      4          5  2015-07-31  13995       1498     1      1            0   \n",
       "4      5          5  2015-07-31   4822        559     1      1            0   \n",
       "\n",
       "   SchoolHoliday  \n",
       "0              1  \n",
       "1              1  \n",
       "2              1  \n",
       "3              1  \n",
       "4              1  "
      ]
     },
     "execution_count": 3,
     "metadata": {},
     "output_type": "execute_result"
    }
   ],
   "source": [
    "# 显示train特征\n",
    "df_train.head()"
   ]
  },
  {
   "cell_type": "code",
   "execution_count": 4,
   "metadata": {
    "collapsed": true
   },
   "outputs": [],
   "source": [
    "# 引入datetime,并且对date特征进行分割\n",
    "import datetime\n",
    "sales_raw = df_train[\"Sales\"]\n",
    "df_train['Year']=df_train['Date'].apply(lambda x:datetime.datetime.strptime(x,'%Y-%m-%d').year)\n",
    "df_train['Month']=df_train['Date'].apply(lambda x:datetime.datetime.strptime(x,'%Y-%m-%d').month)\n",
    "df_train['Day']=df_train['Date'].apply(lambda x:datetime.datetime.strptime(x,'%Y-%m-%d').day)\n",
    "\n",
    "#将Date特征移除\n",
    "features_raw = df_train.drop(\"Date\",axis = 1)\n",
    "\n",
    "#将所有数据进行one-hot编码\n",
    "features_raw = pd.get_dummies(features_raw)\n",
    "\n",
    "#将Stateholiday_0特征移除(在特征中没有效果)\n",
    "features_raw=features_raw.drop(\"StateHoliday_0\",axis = 1)"
   ]
  },
  {
   "cell_type": "code",
   "execution_count": 5,
   "metadata": {},
   "outputs": [
    {
     "data": {
      "text/html": [
       "<div>\n",
       "<style scoped>\n",
       "    .dataframe tbody tr th:only-of-type {\n",
       "        vertical-align: middle;\n",
       "    }\n",
       "\n",
       "    .dataframe tbody tr th {\n",
       "        vertical-align: top;\n",
       "    }\n",
       "\n",
       "    .dataframe thead th {\n",
       "        text-align: right;\n",
       "    }\n",
       "</style>\n",
       "<table border=\"1\" class=\"dataframe\">\n",
       "  <thead>\n",
       "    <tr style=\"text-align: right;\">\n",
       "      <th></th>\n",
       "      <th>Store</th>\n",
       "      <th>DayOfWeek</th>\n",
       "      <th>Sales</th>\n",
       "      <th>Customers</th>\n",
       "      <th>Open</th>\n",
       "      <th>Promo</th>\n",
       "      <th>SchoolHoliday</th>\n",
       "      <th>Year</th>\n",
       "      <th>Month</th>\n",
       "      <th>Day</th>\n",
       "      <th>StateHoliday_a</th>\n",
       "      <th>StateHoliday_b</th>\n",
       "      <th>StateHoliday_c</th>\n",
       "    </tr>\n",
       "  </thead>\n",
       "  <tbody>\n",
       "    <tr>\n",
       "      <th>0</th>\n",
       "      <td>1</td>\n",
       "      <td>5</td>\n",
       "      <td>5263</td>\n",
       "      <td>555</td>\n",
       "      <td>1</td>\n",
       "      <td>1</td>\n",
       "      <td>1</td>\n",
       "      <td>2015</td>\n",
       "      <td>7</td>\n",
       "      <td>31</td>\n",
       "      <td>0</td>\n",
       "      <td>0</td>\n",
       "      <td>0</td>\n",
       "    </tr>\n",
       "    <tr>\n",
       "      <th>1</th>\n",
       "      <td>2</td>\n",
       "      <td>5</td>\n",
       "      <td>6064</td>\n",
       "      <td>625</td>\n",
       "      <td>1</td>\n",
       "      <td>1</td>\n",
       "      <td>1</td>\n",
       "      <td>2015</td>\n",
       "      <td>7</td>\n",
       "      <td>31</td>\n",
       "      <td>0</td>\n",
       "      <td>0</td>\n",
       "      <td>0</td>\n",
       "    </tr>\n",
       "    <tr>\n",
       "      <th>2</th>\n",
       "      <td>3</td>\n",
       "      <td>5</td>\n",
       "      <td>8314</td>\n",
       "      <td>821</td>\n",
       "      <td>1</td>\n",
       "      <td>1</td>\n",
       "      <td>1</td>\n",
       "      <td>2015</td>\n",
       "      <td>7</td>\n",
       "      <td>31</td>\n",
       "      <td>0</td>\n",
       "      <td>0</td>\n",
       "      <td>0</td>\n",
       "    </tr>\n",
       "    <tr>\n",
       "      <th>3</th>\n",
       "      <td>4</td>\n",
       "      <td>5</td>\n",
       "      <td>13995</td>\n",
       "      <td>1498</td>\n",
       "      <td>1</td>\n",
       "      <td>1</td>\n",
       "      <td>1</td>\n",
       "      <td>2015</td>\n",
       "      <td>7</td>\n",
       "      <td>31</td>\n",
       "      <td>0</td>\n",
       "      <td>0</td>\n",
       "      <td>0</td>\n",
       "    </tr>\n",
       "    <tr>\n",
       "      <th>4</th>\n",
       "      <td>5</td>\n",
       "      <td>5</td>\n",
       "      <td>4822</td>\n",
       "      <td>559</td>\n",
       "      <td>1</td>\n",
       "      <td>1</td>\n",
       "      <td>1</td>\n",
       "      <td>2015</td>\n",
       "      <td>7</td>\n",
       "      <td>31</td>\n",
       "      <td>0</td>\n",
       "      <td>0</td>\n",
       "      <td>0</td>\n",
       "    </tr>\n",
       "  </tbody>\n",
       "</table>\n",
       "</div>"
      ],
      "text/plain": [
       "   Store  DayOfWeek  Sales  Customers  Open  Promo  SchoolHoliday  Year  \\\n",
       "0      1          5   5263        555     1      1              1  2015   \n",
       "1      2          5   6064        625     1      1              1  2015   \n",
       "2      3          5   8314        821     1      1              1  2015   \n",
       "3      4          5  13995       1498     1      1              1  2015   \n",
       "4      5          5   4822        559     1      1              1  2015   \n",
       "\n",
       "   Month  Day  StateHoliday_a  StateHoliday_b  StateHoliday_c  \n",
       "0      7   31               0               0               0  \n",
       "1      7   31               0               0               0  \n",
       "2      7   31               0               0               0  \n",
       "3      7   31               0               0               0  \n",
       "4      7   31               0               0               0  "
      ]
     },
     "execution_count": 5,
     "metadata": {},
     "output_type": "execute_result"
    }
   ],
   "source": [
    "#预览feature_raw\n",
    "features_raw.head()"
   ]
  },
  {
   "cell_type": "code",
   "execution_count": 6,
   "metadata": {},
   "outputs": [
    {
     "data": {
      "text/html": [
       "<div>\n",
       "<style scoped>\n",
       "    .dataframe tbody tr th:only-of-type {\n",
       "        vertical-align: middle;\n",
       "    }\n",
       "\n",
       "    .dataframe tbody tr th {\n",
       "        vertical-align: top;\n",
       "    }\n",
       "\n",
       "    .dataframe thead th {\n",
       "        text-align: right;\n",
       "    }\n",
       "</style>\n",
       "<table border=\"1\" class=\"dataframe\">\n",
       "  <thead>\n",
       "    <tr style=\"text-align: right;\">\n",
       "      <th></th>\n",
       "      <th>Store</th>\n",
       "      <th>CompetitionDistance</th>\n",
       "      <th>CompetitionOpenSinceMonth</th>\n",
       "      <th>CompetitionOpenSinceYear</th>\n",
       "      <th>Promo2</th>\n",
       "      <th>Promo2SinceWeek</th>\n",
       "      <th>Promo2SinceYear</th>\n",
       "      <th>StoreType_a</th>\n",
       "      <th>StoreType_b</th>\n",
       "      <th>StoreType_c</th>\n",
       "      <th>StoreType_d</th>\n",
       "      <th>Assortment_a</th>\n",
       "      <th>Assortment_b</th>\n",
       "      <th>Assortment_c</th>\n",
       "      <th>PromoInterval_Feb,May,Aug,Nov</th>\n",
       "      <th>PromoInterval_Jan,Apr,Jul,Oct</th>\n",
       "      <th>PromoInterval_Mar,Jun,Sept,Dec</th>\n",
       "    </tr>\n",
       "  </thead>\n",
       "  <tbody>\n",
       "    <tr>\n",
       "      <th>0</th>\n",
       "      <td>1</td>\n",
       "      <td>1270.0</td>\n",
       "      <td>9.0</td>\n",
       "      <td>2008.0</td>\n",
       "      <td>0</td>\n",
       "      <td>NaN</td>\n",
       "      <td>NaN</td>\n",
       "      <td>0</td>\n",
       "      <td>0</td>\n",
       "      <td>1</td>\n",
       "      <td>0</td>\n",
       "      <td>1</td>\n",
       "      <td>0</td>\n",
       "      <td>0</td>\n",
       "      <td>0</td>\n",
       "      <td>0</td>\n",
       "      <td>0</td>\n",
       "    </tr>\n",
       "    <tr>\n",
       "      <th>1</th>\n",
       "      <td>2</td>\n",
       "      <td>570.0</td>\n",
       "      <td>11.0</td>\n",
       "      <td>2007.0</td>\n",
       "      <td>1</td>\n",
       "      <td>13.0</td>\n",
       "      <td>2010.0</td>\n",
       "      <td>1</td>\n",
       "      <td>0</td>\n",
       "      <td>0</td>\n",
       "      <td>0</td>\n",
       "      <td>1</td>\n",
       "      <td>0</td>\n",
       "      <td>0</td>\n",
       "      <td>0</td>\n",
       "      <td>1</td>\n",
       "      <td>0</td>\n",
       "    </tr>\n",
       "    <tr>\n",
       "      <th>2</th>\n",
       "      <td>3</td>\n",
       "      <td>14130.0</td>\n",
       "      <td>12.0</td>\n",
       "      <td>2006.0</td>\n",
       "      <td>1</td>\n",
       "      <td>14.0</td>\n",
       "      <td>2011.0</td>\n",
       "      <td>1</td>\n",
       "      <td>0</td>\n",
       "      <td>0</td>\n",
       "      <td>0</td>\n",
       "      <td>1</td>\n",
       "      <td>0</td>\n",
       "      <td>0</td>\n",
       "      <td>0</td>\n",
       "      <td>1</td>\n",
       "      <td>0</td>\n",
       "    </tr>\n",
       "    <tr>\n",
       "      <th>3</th>\n",
       "      <td>4</td>\n",
       "      <td>620.0</td>\n",
       "      <td>9.0</td>\n",
       "      <td>2009.0</td>\n",
       "      <td>0</td>\n",
       "      <td>NaN</td>\n",
       "      <td>NaN</td>\n",
       "      <td>0</td>\n",
       "      <td>0</td>\n",
       "      <td>1</td>\n",
       "      <td>0</td>\n",
       "      <td>0</td>\n",
       "      <td>0</td>\n",
       "      <td>1</td>\n",
       "      <td>0</td>\n",
       "      <td>0</td>\n",
       "      <td>0</td>\n",
       "    </tr>\n",
       "    <tr>\n",
       "      <th>4</th>\n",
       "      <td>5</td>\n",
       "      <td>29910.0</td>\n",
       "      <td>4.0</td>\n",
       "      <td>2015.0</td>\n",
       "      <td>0</td>\n",
       "      <td>NaN</td>\n",
       "      <td>NaN</td>\n",
       "      <td>1</td>\n",
       "      <td>0</td>\n",
       "      <td>0</td>\n",
       "      <td>0</td>\n",
       "      <td>1</td>\n",
       "      <td>0</td>\n",
       "      <td>0</td>\n",
       "      <td>0</td>\n",
       "      <td>0</td>\n",
       "      <td>0</td>\n",
       "    </tr>\n",
       "  </tbody>\n",
       "</table>\n",
       "</div>"
      ],
      "text/plain": [
       "   Store  CompetitionDistance  CompetitionOpenSinceMonth  \\\n",
       "0      1               1270.0                        9.0   \n",
       "1      2                570.0                       11.0   \n",
       "2      3              14130.0                       12.0   \n",
       "3      4                620.0                        9.0   \n",
       "4      5              29910.0                        4.0   \n",
       "\n",
       "   CompetitionOpenSinceYear  Promo2  Promo2SinceWeek  Promo2SinceYear  \\\n",
       "0                    2008.0       0              NaN              NaN   \n",
       "1                    2007.0       1             13.0           2010.0   \n",
       "2                    2006.0       1             14.0           2011.0   \n",
       "3                    2009.0       0              NaN              NaN   \n",
       "4                    2015.0       0              NaN              NaN   \n",
       "\n",
       "   StoreType_a  StoreType_b  StoreType_c  StoreType_d  Assortment_a  \\\n",
       "0            0            0            1            0             1   \n",
       "1            1            0            0            0             1   \n",
       "2            1            0            0            0             1   \n",
       "3            0            0            1            0             0   \n",
       "4            1            0            0            0             1   \n",
       "\n",
       "   Assortment_b  Assortment_c  PromoInterval_Feb,May,Aug,Nov  \\\n",
       "0             0             0                              0   \n",
       "1             0             0                              0   \n",
       "2             0             0                              0   \n",
       "3             0             1                              0   \n",
       "4             0             0                              0   \n",
       "\n",
       "   PromoInterval_Jan,Apr,Jul,Oct  PromoInterval_Mar,Jun,Sept,Dec  \n",
       "0                              0                               0  \n",
       "1                              1                               0  \n",
       "2                              1                               0  \n",
       "3                              0                               0  \n",
       "4                              0                               0  "
      ]
     },
     "execution_count": 6,
     "metadata": {},
     "output_type": "execute_result"
    }
   ],
   "source": [
    "# 将store数据集进行one-hot编码\n",
    "store_etc= pd.get_dummies(df_store)\n",
    "\n",
    "# 显示store特征\n",
    "store_etc.head()"
   ]
  },
  {
   "cell_type": "code",
   "execution_count": 7,
   "metadata": {},
   "outputs": [
    {
     "data": {
      "text/plain": [
       "Store                               0\n",
       "CompetitionDistance                 3\n",
       "CompetitionOpenSinceMonth         354\n",
       "CompetitionOpenSinceYear          354\n",
       "Promo2                              0\n",
       "Promo2SinceWeek                   544\n",
       "Promo2SinceYear                   544\n",
       "StoreType_a                         0\n",
       "StoreType_b                         0\n",
       "StoreType_c                         0\n",
       "StoreType_d                         0\n",
       "Assortment_a                        0\n",
       "Assortment_b                        0\n",
       "Assortment_c                        0\n",
       "PromoInterval_Feb,May,Aug,Nov       0\n",
       "PromoInterval_Jan,Apr,Jul,Oct       0\n",
       "PromoInterval_Mar,Jun,Sept,Dec      0\n",
       "dtype: int64"
      ]
     },
     "execution_count": 7,
     "metadata": {},
     "output_type": "execute_result"
    }
   ],
   "source": [
    "# 对store数据集查找缺省值\n",
    "store_etc.isnull().sum()"
   ]
  },
  {
   "cell_type": "code",
   "execution_count": 8,
   "metadata": {},
   "outputs": [
    {
     "data": {
      "text/html": [
       "<div>\n",
       "<style scoped>\n",
       "    .dataframe tbody tr th:only-of-type {\n",
       "        vertical-align: middle;\n",
       "    }\n",
       "\n",
       "    .dataframe tbody tr th {\n",
       "        vertical-align: top;\n",
       "    }\n",
       "\n",
       "    .dataframe thead th {\n",
       "        text-align: right;\n",
       "    }\n",
       "</style>\n",
       "<table border=\"1\" class=\"dataframe\">\n",
       "  <thead>\n",
       "    <tr style=\"text-align: right;\">\n",
       "      <th></th>\n",
       "      <th>Store</th>\n",
       "      <th>CompetitionDistance</th>\n",
       "      <th>CompetitionOpenSinceMonth</th>\n",
       "      <th>CompetitionOpenSinceYear</th>\n",
       "      <th>Promo2</th>\n",
       "      <th>Promo2SinceWeek</th>\n",
       "      <th>Promo2SinceYear</th>\n",
       "      <th>StoreType_a</th>\n",
       "      <th>StoreType_b</th>\n",
       "      <th>StoreType_c</th>\n",
       "      <th>StoreType_d</th>\n",
       "      <th>Assortment_a</th>\n",
       "      <th>Assortment_b</th>\n",
       "      <th>Assortment_c</th>\n",
       "      <th>PromoInterval_Feb,May,Aug,Nov</th>\n",
       "      <th>PromoInterval_Jan,Apr,Jul,Oct</th>\n",
       "      <th>PromoInterval_Mar,Jun,Sept,Dec</th>\n",
       "    </tr>\n",
       "  </thead>\n",
       "  <tbody>\n",
       "    <tr>\n",
       "      <th>290</th>\n",
       "      <td>291</td>\n",
       "      <td>NaN</td>\n",
       "      <td>NaN</td>\n",
       "      <td>NaN</td>\n",
       "      <td>0</td>\n",
       "      <td>NaN</td>\n",
       "      <td>NaN</td>\n",
       "      <td>0</td>\n",
       "      <td>0</td>\n",
       "      <td>0</td>\n",
       "      <td>1</td>\n",
       "      <td>1</td>\n",
       "      <td>0</td>\n",
       "      <td>0</td>\n",
       "      <td>0</td>\n",
       "      <td>0</td>\n",
       "      <td>0</td>\n",
       "    </tr>\n",
       "    <tr>\n",
       "      <th>621</th>\n",
       "      <td>622</td>\n",
       "      <td>NaN</td>\n",
       "      <td>NaN</td>\n",
       "      <td>NaN</td>\n",
       "      <td>0</td>\n",
       "      <td>NaN</td>\n",
       "      <td>NaN</td>\n",
       "      <td>1</td>\n",
       "      <td>0</td>\n",
       "      <td>0</td>\n",
       "      <td>0</td>\n",
       "      <td>0</td>\n",
       "      <td>0</td>\n",
       "      <td>1</td>\n",
       "      <td>0</td>\n",
       "      <td>0</td>\n",
       "      <td>0</td>\n",
       "    </tr>\n",
       "    <tr>\n",
       "      <th>878</th>\n",
       "      <td>879</td>\n",
       "      <td>NaN</td>\n",
       "      <td>NaN</td>\n",
       "      <td>NaN</td>\n",
       "      <td>1</td>\n",
       "      <td>5.0</td>\n",
       "      <td>2013.0</td>\n",
       "      <td>0</td>\n",
       "      <td>0</td>\n",
       "      <td>0</td>\n",
       "      <td>1</td>\n",
       "      <td>1</td>\n",
       "      <td>0</td>\n",
       "      <td>0</td>\n",
       "      <td>1</td>\n",
       "      <td>0</td>\n",
       "      <td>0</td>\n",
       "    </tr>\n",
       "  </tbody>\n",
       "</table>\n",
       "</div>"
      ],
      "text/plain": [
       "     Store  CompetitionDistance  CompetitionOpenSinceMonth  \\\n",
       "290    291                  NaN                        NaN   \n",
       "621    622                  NaN                        NaN   \n",
       "878    879                  NaN                        NaN   \n",
       "\n",
       "     CompetitionOpenSinceYear  Promo2  Promo2SinceWeek  Promo2SinceYear  \\\n",
       "290                       NaN       0              NaN              NaN   \n",
       "621                       NaN       0              NaN              NaN   \n",
       "878                       NaN       1              5.0           2013.0   \n",
       "\n",
       "     StoreType_a  StoreType_b  StoreType_c  StoreType_d  Assortment_a  \\\n",
       "290            0            0            0            1             1   \n",
       "621            1            0            0            0             0   \n",
       "878            0            0            0            1             1   \n",
       "\n",
       "     Assortment_b  Assortment_c  PromoInterval_Feb,May,Aug,Nov  \\\n",
       "290             0             0                              0   \n",
       "621             0             1                              0   \n",
       "878             0             0                              1   \n",
       "\n",
       "     PromoInterval_Jan,Apr,Jul,Oct  PromoInterval_Mar,Jun,Sept,Dec  \n",
       "290                              0                               0  \n",
       "621                              0                               0  \n",
       "878                              0                               0  "
      ]
     },
     "execution_count": 8,
     "metadata": {},
     "output_type": "execute_result"
    }
   ],
   "source": [
    "# 查看Competition Distance特征中的缺省值\n",
    "store_etc[pd.isnull(store_etc.CompetitionDistance)]"
   ]
  },
  {
   "cell_type": "code",
   "execution_count": 9,
   "metadata": {
    "collapsed": true
   },
   "outputs": [],
   "source": [
    "# 填充缺省值为median平均值\n",
    "store_etc['CompetitionDistance'].fillna(store_etc['CompetitionDistance'].median(), inplace = True)"
   ]
  },
  {
   "cell_type": "code",
   "execution_count": 10,
   "metadata": {},
   "outputs": [
    {
     "data": {
      "text/html": [
       "<div>\n",
       "<style scoped>\n",
       "    .dataframe tbody tr th:only-of-type {\n",
       "        vertical-align: middle;\n",
       "    }\n",
       "\n",
       "    .dataframe tbody tr th {\n",
       "        vertical-align: top;\n",
       "    }\n",
       "\n",
       "    .dataframe thead th {\n",
       "        text-align: right;\n",
       "    }\n",
       "</style>\n",
       "<table border=\"1\" class=\"dataframe\">\n",
       "  <thead>\n",
       "    <tr style=\"text-align: right;\">\n",
       "      <th></th>\n",
       "      <th>Store</th>\n",
       "      <th>DayOfWeek</th>\n",
       "      <th>Sales</th>\n",
       "      <th>Customers</th>\n",
       "      <th>Open</th>\n",
       "      <th>Promo</th>\n",
       "      <th>SchoolHoliday</th>\n",
       "      <th>Year</th>\n",
       "      <th>Month</th>\n",
       "      <th>Day</th>\n",
       "      <th>StateHoliday_a</th>\n",
       "      <th>StateHoliday_b</th>\n",
       "      <th>StateHoliday_c</th>\n",
       "    </tr>\n",
       "  </thead>\n",
       "  <tbody>\n",
       "    <tr>\n",
       "      <th>39025</th>\n",
       "      <td>1</td>\n",
       "      <td>5</td>\n",
       "      <td>3317</td>\n",
       "      <td>420</td>\n",
       "      <td>1</td>\n",
       "      <td>0</td>\n",
       "      <td>0</td>\n",
       "      <td>2015</td>\n",
       "      <td>6</td>\n",
       "      <td>26</td>\n",
       "      <td>0</td>\n",
       "      <td>0</td>\n",
       "      <td>0</td>\n",
       "    </tr>\n",
       "    <tr>\n",
       "      <th>39026</th>\n",
       "      <td>2</td>\n",
       "      <td>5</td>\n",
       "      <td>3953</td>\n",
       "      <td>476</td>\n",
       "      <td>1</td>\n",
       "      <td>0</td>\n",
       "      <td>0</td>\n",
       "      <td>2015</td>\n",
       "      <td>6</td>\n",
       "      <td>26</td>\n",
       "      <td>0</td>\n",
       "      <td>0</td>\n",
       "      <td>0</td>\n",
       "    </tr>\n",
       "    <tr>\n",
       "      <th>39027</th>\n",
       "      <td>3</td>\n",
       "      <td>5</td>\n",
       "      <td>6222</td>\n",
       "      <td>698</td>\n",
       "      <td>1</td>\n",
       "      <td>0</td>\n",
       "      <td>0</td>\n",
       "      <td>2015</td>\n",
       "      <td>6</td>\n",
       "      <td>26</td>\n",
       "      <td>0</td>\n",
       "      <td>0</td>\n",
       "      <td>0</td>\n",
       "    </tr>\n",
       "    <tr>\n",
       "      <th>39028</th>\n",
       "      <td>4</td>\n",
       "      <td>5</td>\n",
       "      <td>7684</td>\n",
       "      <td>1076</td>\n",
       "      <td>1</td>\n",
       "      <td>0</td>\n",
       "      <td>0</td>\n",
       "      <td>2015</td>\n",
       "      <td>6</td>\n",
       "      <td>26</td>\n",
       "      <td>0</td>\n",
       "      <td>0</td>\n",
       "      <td>0</td>\n",
       "    </tr>\n",
       "    <tr>\n",
       "      <th>39029</th>\n",
       "      <td>5</td>\n",
       "      <td>5</td>\n",
       "      <td>3799</td>\n",
       "      <td>460</td>\n",
       "      <td>1</td>\n",
       "      <td>0</td>\n",
       "      <td>0</td>\n",
       "      <td>2015</td>\n",
       "      <td>6</td>\n",
       "      <td>26</td>\n",
       "      <td>0</td>\n",
       "      <td>0</td>\n",
       "      <td>0</td>\n",
       "    </tr>\n",
       "  </tbody>\n",
       "</table>\n",
       "</div>"
      ],
      "text/plain": [
       "       Store  DayOfWeek  Sales  Customers  Open  Promo  SchoolHoliday  Year  \\\n",
       "39025      1          5   3317        420     1      0              0  2015   \n",
       "39026      2          5   3953        476     1      0              0  2015   \n",
       "39027      3          5   6222        698     1      0              0  2015   \n",
       "39028      4          5   7684       1076     1      0              0  2015   \n",
       "39029      5          5   3799        460     1      0              0  2015   \n",
       "\n",
       "       Month  Day  StateHoliday_a  StateHoliday_b  StateHoliday_c  \n",
       "39025      6   26               0               0               0  \n",
       "39026      6   26               0               0               0  \n",
       "39027      6   26               0               0               0  \n",
       "39028      6   26               0               0               0  \n",
       "39029      6   26               0               0               0  "
      ]
     },
     "execution_count": 10,
     "metadata": {},
     "output_type": "execute_result"
    }
   ],
   "source": [
    "# 将训练集分割出35天作为测试集\n",
    "test_data = features_raw[:39025]\n",
    "train_data = features_raw[39025:]\n",
    "train_data.head()"
   ]
  },
  {
   "cell_type": "code",
   "execution_count": 11,
   "metadata": {},
   "outputs": [
    {
     "data": {
      "text/html": [
       "<div>\n",
       "<style scoped>\n",
       "    .dataframe tbody tr th:only-of-type {\n",
       "        vertical-align: middle;\n",
       "    }\n",
       "\n",
       "    .dataframe tbody tr th {\n",
       "        vertical-align: top;\n",
       "    }\n",
       "\n",
       "    .dataframe thead th {\n",
       "        text-align: right;\n",
       "    }\n",
       "</style>\n",
       "<table border=\"1\" class=\"dataframe\">\n",
       "  <thead>\n",
       "    <tr style=\"text-align: right;\">\n",
       "      <th></th>\n",
       "      <th>count</th>\n",
       "      <th>mean</th>\n",
       "      <th>std</th>\n",
       "      <th>min</th>\n",
       "      <th>25%</th>\n",
       "      <th>50%</th>\n",
       "      <th>75%</th>\n",
       "      <th>max</th>\n",
       "    </tr>\n",
       "    <tr>\n",
       "      <th>DayOfWeek</th>\n",
       "      <th></th>\n",
       "      <th></th>\n",
       "      <th></th>\n",
       "      <th></th>\n",
       "      <th></th>\n",
       "      <th></th>\n",
       "      <th></th>\n",
       "      <th></th>\n",
       "    </tr>\n",
       "  </thead>\n",
       "  <tbody>\n",
       "    <tr>\n",
       "      <th>1</th>\n",
       "      <td>144730.0</td>\n",
       "      <td>7809.044510</td>\n",
       "      <td>4016.526273</td>\n",
       "      <td>0.0</td>\n",
       "      <td>5235.00</td>\n",
       "      <td>7310.0</td>\n",
       "      <td>9972.0</td>\n",
       "      <td>41551.0</td>\n",
       "    </tr>\n",
       "    <tr>\n",
       "      <th>2</th>\n",
       "      <td>145664.0</td>\n",
       "      <td>7005.244467</td>\n",
       "      <td>3142.039607</td>\n",
       "      <td>0.0</td>\n",
       "      <td>4904.00</td>\n",
       "      <td>6463.0</td>\n",
       "      <td>8491.0</td>\n",
       "      <td>34692.0</td>\n",
       "    </tr>\n",
       "    <tr>\n",
       "      <th>3</th>\n",
       "      <td>145665.0</td>\n",
       "      <td>6555.884138</td>\n",
       "      <td>2944.377501</td>\n",
       "      <td>0.0</td>\n",
       "      <td>4718.00</td>\n",
       "      <td>6133.0</td>\n",
       "      <td>7926.0</td>\n",
       "      <td>33151.0</td>\n",
       "    </tr>\n",
       "    <tr>\n",
       "      <th>4</th>\n",
       "      <td>145845.0</td>\n",
       "      <td>6247.575913</td>\n",
       "      <td>3209.806360</td>\n",
       "      <td>0.0</td>\n",
       "      <td>4536.00</td>\n",
       "      <td>6020.0</td>\n",
       "      <td>7792.0</td>\n",
       "      <td>38367.0</td>\n",
       "    </tr>\n",
       "    <tr>\n",
       "      <th>5</th>\n",
       "      <td>145845.0</td>\n",
       "      <td>6723.274305</td>\n",
       "      <td>3101.006008</td>\n",
       "      <td>0.0</td>\n",
       "      <td>4975.00</td>\n",
       "      <td>6434.0</td>\n",
       "      <td>8206.0</td>\n",
       "      <td>38722.0</td>\n",
       "    </tr>\n",
       "    <tr>\n",
       "      <th>6</th>\n",
       "      <td>144730.0</td>\n",
       "      <td>5847.562599</td>\n",
       "      <td>2873.985615</td>\n",
       "      <td>0.0</td>\n",
       "      <td>3899.25</td>\n",
       "      <td>5410.0</td>\n",
       "      <td>7220.0</td>\n",
       "      <td>31683.0</td>\n",
       "    </tr>\n",
       "    <tr>\n",
       "      <th>7</th>\n",
       "      <td>144730.0</td>\n",
       "      <td>204.183189</td>\n",
       "      <td>1613.243517</td>\n",
       "      <td>0.0</td>\n",
       "      <td>0.00</td>\n",
       "      <td>0.0</td>\n",
       "      <td>0.0</td>\n",
       "      <td>37376.0</td>\n",
       "    </tr>\n",
       "  </tbody>\n",
       "</table>\n",
       "</div>"
      ],
      "text/plain": [
       "              count         mean          std  min      25%     50%     75%  \\\n",
       "DayOfWeek                                                                     \n",
       "1          144730.0  7809.044510  4016.526273  0.0  5235.00  7310.0  9972.0   \n",
       "2          145664.0  7005.244467  3142.039607  0.0  4904.00  6463.0  8491.0   \n",
       "3          145665.0  6555.884138  2944.377501  0.0  4718.00  6133.0  7926.0   \n",
       "4          145845.0  6247.575913  3209.806360  0.0  4536.00  6020.0  7792.0   \n",
       "5          145845.0  6723.274305  3101.006008  0.0  4975.00  6434.0  8206.0   \n",
       "6          144730.0  5847.562599  2873.985615  0.0  3899.25  5410.0  7220.0   \n",
       "7          144730.0   204.183189  1613.243517  0.0     0.00     0.0     0.0   \n",
       "\n",
       "               max  \n",
       "DayOfWeek           \n",
       "1          41551.0  \n",
       "2          34692.0  \n",
       "3          33151.0  \n",
       "4          38367.0  \n",
       "5          38722.0  \n",
       "6          31683.0  \n",
       "7          37376.0  "
      ]
     },
     "execution_count": 11,
     "metadata": {},
     "output_type": "execute_result"
    }
   ],
   "source": [
    "train_store=pd.merge(features_raw, df_store, how = 'inner', on = 'Store')\n",
    "train_store['SalePerCustomer'] = features_raw['Sales']/features_raw['Customers']\n",
    "train_store.groupby('DayOfWeek')['Sales'].describe()"
   ]
  },
  {
   "cell_type": "code",
   "execution_count": 12,
   "metadata": {},
   "outputs": [
    {
     "data": {
      "text/plain": [
       "<seaborn.axisgrid.FacetGrid at 0x7f2971544e90>"
      ]
     },
     "execution_count": 12,
     "metadata": {},
     "output_type": "execute_result"
    },
    {
     "data": {
      "image/png": "[encoded data removed]",
      "text/plain": [
       "<matplotlib.figure.Figure at 0x7f29431bc790>"
      ]
     },
     "metadata": {},
     "output_type": "display_data"
    }
   ],
   "source": [
    "# 销售额均值-按星期几排序\n",
    "sns.factorplot(data = train_store, x = 'Month', y = \"Sales\", \n",
    "               col = 'DayOfWeek', \n",
    "               palette = 'plasma',\n",
    "               hue = 'DayOfWeek') "
   ]
  },
  {
   "cell_type": "code",
   "execution_count": 13,
   "metadata": {},
   "outputs": [
    {
     "data": {
      "text/plain": [
       "count    844340.000000\n",
       "mean          9.493619\n",
       "std           2.197494\n",
       "min           0.000000\n",
       "25%           7.895563\n",
       "50%           9.250000\n",
       "75%          10.899729\n",
       "max          64.957854\n",
       "Name: SalePerCustomer, dtype: float64"
      ]
     },
     "execution_count": 13,
     "metadata": {},
     "output_type": "execute_result"
    }
   ],
   "source": [
    "train_store['SalePerCustomer'].describe()"
   ]
  },
  {
   "cell_type": "code",
   "execution_count": 14,
   "metadata": {},
   "outputs": [
    {
     "data": {
      "text/html": [
       "<div>\n",
       "<style scoped>\n",
       "    .dataframe tbody tr th:only-of-type {\n",
       "        vertical-align: middle;\n",
       "    }\n",
       "\n",
       "    .dataframe tbody tr th {\n",
       "        vertical-align: top;\n",
       "    }\n",
       "\n",
       "    .dataframe thead th {\n",
       "        text-align: right;\n",
       "    }\n",
       "</style>\n",
       "<table border=\"1\" class=\"dataframe\">\n",
       "  <thead>\n",
       "    <tr style=\"text-align: right;\">\n",
       "      <th></th>\n",
       "      <th>count</th>\n",
       "      <th>mean</th>\n",
       "      <th>std</th>\n",
       "      <th>min</th>\n",
       "      <th>25%</th>\n",
       "      <th>50%</th>\n",
       "      <th>75%</th>\n",
       "      <th>max</th>\n",
       "    </tr>\n",
       "    <tr>\n",
       "      <th>Month</th>\n",
       "      <th></th>\n",
       "      <th></th>\n",
       "      <th></th>\n",
       "      <th></th>\n",
       "      <th></th>\n",
       "      <th></th>\n",
       "      <th></th>\n",
       "      <th></th>\n",
       "    </tr>\n",
       "  </thead>\n",
       "  <tbody>\n",
       "    <tr>\n",
       "      <th>1</th>\n",
       "      <td>103694.0</td>\n",
       "      <td>5465.395529</td>\n",
       "      <td>3572.685233</td>\n",
       "      <td>0.0</td>\n",
       "      <td>3577.00</td>\n",
       "      <td>5483.0</td>\n",
       "      <td>7464.0</td>\n",
       "      <td>32263.0</td>\n",
       "    </tr>\n",
       "    <tr>\n",
       "      <th>2</th>\n",
       "      <td>93660.0</td>\n",
       "      <td>5645.253150</td>\n",
       "      <td>3519.990270</td>\n",
       "      <td>0.0</td>\n",
       "      <td>3837.00</td>\n",
       "      <td>5610.0</td>\n",
       "      <td>7516.0</td>\n",
       "      <td>31649.0</td>\n",
       "    </tr>\n",
       "    <tr>\n",
       "      <th>3</th>\n",
       "      <td>103695.0</td>\n",
       "      <td>5784.578871</td>\n",
       "      <td>3871.175081</td>\n",
       "      <td>0.0</td>\n",
       "      <td>3705.00</td>\n",
       "      <td>5750.0</td>\n",
       "      <td>7885.0</td>\n",
       "      <td>36227.0</td>\n",
       "    </tr>\n",
       "    <tr>\n",
       "      <th>4</th>\n",
       "      <td>100350.0</td>\n",
       "      <td>5738.866916</td>\n",
       "      <td>3940.456503</td>\n",
       "      <td>0.0</td>\n",
       "      <td>3604.25</td>\n",
       "      <td>5718.0</td>\n",
       "      <td>7944.0</td>\n",
       "      <td>38722.0</td>\n",
       "    </tr>\n",
       "    <tr>\n",
       "      <th>5</th>\n",
       "      <td>103695.0</td>\n",
       "      <td>5489.639973</td>\n",
       "      <td>3983.233069</td>\n",
       "      <td>0.0</td>\n",
       "      <td>2941.50</td>\n",
       "      <td>5717.0</td>\n",
       "      <td>7827.0</td>\n",
       "      <td>38484.0</td>\n",
       "    </tr>\n",
       "    <tr>\n",
       "      <th>6</th>\n",
       "      <td>100350.0</td>\n",
       "      <td>5760.964375</td>\n",
       "      <td>3909.373300</td>\n",
       "      <td>0.0</td>\n",
       "      <td>3697.00</td>\n",
       "      <td>5729.0</td>\n",
       "      <td>7865.0</td>\n",
       "      <td>41551.0</td>\n",
       "    </tr>\n",
       "    <tr>\n",
       "      <th>7</th>\n",
       "      <td>98115.0</td>\n",
       "      <td>6064.915711</td>\n",
       "      <td>3640.947610</td>\n",
       "      <td>0.0</td>\n",
       "      <td>4151.00</td>\n",
       "      <td>5953.0</td>\n",
       "      <td>8009.0</td>\n",
       "      <td>32671.0</td>\n",
       "    </tr>\n",
       "    <tr>\n",
       "      <th>8</th>\n",
       "      <td>63550.0</td>\n",
       "      <td>5693.016554</td>\n",
       "      <td>3556.992585</td>\n",
       "      <td>0.0</td>\n",
       "      <td>3815.00</td>\n",
       "      <td>5633.0</td>\n",
       "      <td>7606.0</td>\n",
       "      <td>33913.0</td>\n",
       "    </tr>\n",
       "    <tr>\n",
       "      <th>9</th>\n",
       "      <td>61500.0</td>\n",
       "      <td>5570.246033</td>\n",
       "      <td>3542.059830</td>\n",
       "      <td>0.0</td>\n",
       "      <td>3731.00</td>\n",
       "      <td>5504.0</td>\n",
       "      <td>7445.0</td>\n",
       "      <td>32926.0</td>\n",
       "    </tr>\n",
       "    <tr>\n",
       "      <th>10</th>\n",
       "      <td>63550.0</td>\n",
       "      <td>5537.037419</td>\n",
       "      <td>3541.936004</td>\n",
       "      <td>0.0</td>\n",
       "      <td>3756.00</td>\n",
       "      <td>5567.0</td>\n",
       "      <td>7458.0</td>\n",
       "      <td>35702.0</td>\n",
       "    </tr>\n",
       "    <tr>\n",
       "      <th>11</th>\n",
       "      <td>61500.0</td>\n",
       "      <td>6008.111821</td>\n",
       "      <td>3829.490315</td>\n",
       "      <td>0.0</td>\n",
       "      <td>4010.00</td>\n",
       "      <td>6081.0</td>\n",
       "      <td>8156.0</td>\n",
       "      <td>36417.0</td>\n",
       "    </tr>\n",
       "    <tr>\n",
       "      <th>12</th>\n",
       "      <td>63550.0</td>\n",
       "      <td>6826.611377</td>\n",
       "      <td>5045.895452</td>\n",
       "      <td>0.0</td>\n",
       "      <td>3569.00</td>\n",
       "      <td>6727.5</td>\n",
       "      <td>9775.0</td>\n",
       "      <td>38025.0</td>\n",
       "    </tr>\n",
       "  </tbody>\n",
       "</table>\n",
       "</div>"
      ],
      "text/plain": [
       "          count         mean          std  min      25%     50%     75%  \\\n",
       "Month                                                                     \n",
       "1      103694.0  5465.395529  3572.685233  0.0  3577.00  5483.0  7464.0   \n",
       "2       93660.0  5645.253150  3519.990270  0.0  3837.00  5610.0  7516.0   \n",
       "3      103695.0  5784.578871  3871.175081  0.0  3705.00  5750.0  7885.0   \n",
       "4      100350.0  5738.866916  3940.456503  0.0  3604.25  5718.0  7944.0   \n",
       "5      103695.0  5489.639973  3983.233069  0.0  2941.50  5717.0  7827.0   \n",
       "6      100350.0  5760.964375  3909.373300  0.0  3697.00  5729.0  7865.0   \n",
       "7       98115.0  6064.915711  3640.947610  0.0  4151.00  5953.0  8009.0   \n",
       "8       63550.0  5693.016554  3556.992585  0.0  3815.00  5633.0  7606.0   \n",
       "9       61500.0  5570.246033  3542.059830  0.0  3731.00  5504.0  7445.0   \n",
       "10      63550.0  5537.037419  3541.936004  0.0  3756.00  5567.0  7458.0   \n",
       "11      61500.0  6008.111821  3829.490315  0.0  4010.00  6081.0  8156.0   \n",
       "12      63550.0  6826.611377  5045.895452  0.0  3569.00  6727.5  9775.0   \n",
       "\n",
       "           max  \n",
       "Month           \n",
       "1      32263.0  \n",
       "2      31649.0  \n",
       "3      36227.0  \n",
       "4      38722.0  \n",
       "5      38484.0  \n",
       "6      41551.0  \n",
       "7      32671.0  \n",
       "8      33913.0  \n",
       "9      32926.0  \n",
       "10     35702.0  \n",
       "11     36417.0  \n",
       "12     38025.0  "
      ]
     },
     "execution_count": 14,
     "metadata": {},
     "output_type": "execute_result"
    }
   ],
   "source": [
    "train_store.groupby('Month')['Sales'].describe()"
   ]
  },
  {
   "cell_type": "code",
   "execution_count": 15,
   "metadata": {},
   "outputs": [
    {
     "name": "stdout",
     "output_type": "stream",
     "text": [
      "Counter({'a': 602, 'd': 348, 'c': 148, 'b': 17})\n"
     ]
    }
   ],
   "source": [
    "# 各类型门店有几个\n",
    "from collections import Counter\n",
    "c = Counter(df_store['StoreType'])\n",
    "print c"
   ]
  },
  {
   "cell_type": "code",
   "execution_count": 16,
   "metadata": {},
   "outputs": [
    {
     "data": {
      "text/html": [
       "<div>\n",
       "<style scoped>\n",
       "    .dataframe tbody tr th:only-of-type {\n",
       "        vertical-align: middle;\n",
       "    }\n",
       "\n",
       "    .dataframe tbody tr th {\n",
       "        vertical-align: top;\n",
       "    }\n",
       "\n",
       "    .dataframe thead th {\n",
       "        text-align: right;\n",
       "    }\n",
       "</style>\n",
       "<table border=\"1\" class=\"dataframe\">\n",
       "  <thead>\n",
       "    <tr style=\"text-align: right;\">\n",
       "      <th></th>\n",
       "      <th>count</th>\n",
       "      <th>mean</th>\n",
       "      <th>std</th>\n",
       "      <th>min</th>\n",
       "      <th>25%</th>\n",
       "      <th>50%</th>\n",
       "      <th>75%</th>\n",
       "      <th>max</th>\n",
       "    </tr>\n",
       "    <tr>\n",
       "      <th>StoreType</th>\n",
       "      <th></th>\n",
       "      <th></th>\n",
       "      <th></th>\n",
       "      <th></th>\n",
       "      <th></th>\n",
       "      <th></th>\n",
       "      <th></th>\n",
       "      <th></th>\n",
       "    </tr>\n",
       "  </thead>\n",
       "  <tbody>\n",
       "    <tr>\n",
       "      <th>a</th>\n",
       "      <td>551627.0</td>\n",
       "      <td>5738.179710</td>\n",
       "      <td>3964.028134</td>\n",
       "      <td>0.0</td>\n",
       "      <td>3508.0</td>\n",
       "      <td>5618.0</td>\n",
       "      <td>7860.00</td>\n",
       "      <td>41551.0</td>\n",
       "    </tr>\n",
       "    <tr>\n",
       "      <th>b</th>\n",
       "      <td>15830.0</td>\n",
       "      <td>10058.837334</td>\n",
       "      <td>5280.525506</td>\n",
       "      <td>0.0</td>\n",
       "      <td>6227.0</td>\n",
       "      <td>9025.5</td>\n",
       "      <td>13082.75</td>\n",
       "      <td>38722.0</td>\n",
       "    </tr>\n",
       "    <tr>\n",
       "      <th>c</th>\n",
       "      <td>136840.0</td>\n",
       "      <td>5723.629246</td>\n",
       "      <td>3721.700886</td>\n",
       "      <td>0.0</td>\n",
       "      <td>3789.0</td>\n",
       "      <td>5766.0</td>\n",
       "      <td>7849.00</td>\n",
       "      <td>31448.0</td>\n",
       "    </tr>\n",
       "    <tr>\n",
       "      <th>d</th>\n",
       "      <td>312912.0</td>\n",
       "      <td>5641.819243</td>\n",
       "      <td>3473.393781</td>\n",
       "      <td>0.0</td>\n",
       "      <td>3986.0</td>\n",
       "      <td>5826.0</td>\n",
       "      <td>7691.00</td>\n",
       "      <td>38037.0</td>\n",
       "    </tr>\n",
       "  </tbody>\n",
       "</table>\n",
       "</div>"
      ],
      "text/plain": [
       "              count          mean          std  min     25%     50%       75%  \\\n",
       "StoreType                                                                       \n",
       "a          551627.0   5738.179710  3964.028134  0.0  3508.0  5618.0   7860.00   \n",
       "b           15830.0  10058.837334  5280.525506  0.0  6227.0  9025.5  13082.75   \n",
       "c          136840.0   5723.629246  3721.700886  0.0  3789.0  5766.0   7849.00   \n",
       "d          312912.0   5641.819243  3473.393781  0.0  3986.0  5826.0   7691.00   \n",
       "\n",
       "               max  \n",
       "StoreType           \n",
       "a          41551.0  \n",
       "b          38722.0  \n",
       "c          31448.0  \n",
       "d          38037.0  "
      ]
     },
     "execution_count": 16,
     "metadata": {},
     "output_type": "execute_result"
    }
   ],
   "source": [
    "# 销售额-按月份\n",
    "train_store.groupby('StoreType')['Sales'].describe()"
   ]
  },
  {
   "cell_type": "code",
   "execution_count": 17,
   "metadata": {},
   "outputs": [
    {
     "data": {
      "text/plain": [
       "<seaborn.axisgrid.FacetGrid at 0x7f293f1a3050>"
      ]
     },
     "execution_count": 17,
     "metadata": {},
     "output_type": "execute_result"
    },
    {
     "data": {
      "image/png": "[encoded data removed]",
      "text/plain": [
       "<matplotlib.figure.Figure at 0x7f293f128cd0>"
      ]
     },
     "metadata": {},
     "output_type": "display_data"
    }
   ],
   "source": [
    "# 销售额-按月份\n",
    "sns.factorplot(data = train_store, x = 'StoreType', y = \"Sales\", \n",
    "               col = 'Month', \n",
    "               palette = 'plasma',\n",
    "               hue = 'Month') "
   ]
  },
  {
   "cell_type": "code",
   "execution_count": 18,
   "metadata": {},
   "outputs": [
    {
     "data": {
      "text/plain": [
       "<seaborn.axisgrid.FacetGrid at 0x7f293f16c810>"
      ]
     },
     "execution_count": 18,
     "metadata": {},
     "output_type": "execute_result"
    },
    {
     "data": {
      "image/png": "[encoded data removed]",
      "text/plain": [
       "<matplotlib.figure.Figure at 0x7f293e53b350>"
      ]
     },
     "metadata": {},
     "output_type": "display_data"
    }
   ],
   "source": [
    "# 销售额-按店类型\n",
    "sns.factorplot(data = train_store, x = 'Month', y = \"Sales\", \n",
    "               col = 'StoreType', \n",
    "               palette = 'plasma',\n",
    "               hue = 'StoreType') "
   ]
  },
  {
   "cell_type": "code",
   "execution_count": 19,
   "metadata": {},
   "outputs": [
    {
     "data": {
      "text/plain": [
       "<seaborn.axisgrid.FacetGrid at 0x7f293f15cd10>"
      ]
     },
     "execution_count": 19,
     "metadata": {},
     "output_type": "execute_result"
    },
    {
     "data": {
      "image/png": "[encoded data removed]",
      "text/plain": [
       "<matplotlib.figure.Figure at 0x7f293f191c90>"
      ]
     },
     "metadata": {},
     "output_type": "display_data"
    }
   ],
   "source": [
    "# 单人消费额度-按店类型\n",
    "sns.factorplot(data = train_store, x = 'Month', y = \"SalePerCustomer\", \n",
    "               col = 'StoreType', # per store type in cols\n",
    "               palette = 'plasma',\n",
    "               hue = 'StoreType') "
   ]
  },
  {
   "cell_type": "code",
   "execution_count": 20,
   "metadata": {},
   "outputs": [
    {
     "data": {
      "text/html": [
       "<div>\n",
       "<style scoped>\n",
       "    .dataframe tbody tr th:only-of-type {\n",
       "        vertical-align: middle;\n",
       "    }\n",
       "\n",
       "    .dataframe tbody tr th {\n",
       "        vertical-align: top;\n",
       "    }\n",
       "\n",
       "    .dataframe thead th {\n",
       "        text-align: right;\n",
       "    }\n",
       "</style>\n",
       "<table border=\"1\" class=\"dataframe\">\n",
       "  <thead>\n",
       "    <tr style=\"text-align: right;\">\n",
       "      <th></th>\n",
       "      <th>count</th>\n",
       "      <th>mean</th>\n",
       "      <th>std</th>\n",
       "      <th>min</th>\n",
       "      <th>25%</th>\n",
       "      <th>50%</th>\n",
       "      <th>75%</th>\n",
       "      <th>max</th>\n",
       "    </tr>\n",
       "    <tr>\n",
       "      <th>Promo</th>\n",
       "      <th></th>\n",
       "      <th></th>\n",
       "      <th></th>\n",
       "      <th></th>\n",
       "      <th></th>\n",
       "      <th></th>\n",
       "      <th></th>\n",
       "      <th></th>\n",
       "    </tr>\n",
       "  </thead>\n",
       "  <tbody>\n",
       "    <tr>\n",
       "      <th>0</th>\n",
       "      <td>629129.0</td>\n",
       "      <td>4406.050805</td>\n",
       "      <td>3442.450020</td>\n",
       "      <td>0.0</td>\n",
       "      <td>0.0</td>\n",
       "      <td>4622.0</td>\n",
       "      <td>6367.0</td>\n",
       "      <td>41551.0</td>\n",
       "    </tr>\n",
       "    <tr>\n",
       "      <th>1</th>\n",
       "      <td>388080.0</td>\n",
       "      <td>7991.152046</td>\n",
       "      <td>3419.025495</td>\n",
       "      <td>0.0</td>\n",
       "      <td>5922.0</td>\n",
       "      <td>7553.0</td>\n",
       "      <td>9603.0</td>\n",
       "      <td>38722.0</td>\n",
       "    </tr>\n",
       "  </tbody>\n",
       "</table>\n",
       "</div>"
      ],
      "text/plain": [
       "          count         mean          std  min     25%     50%     75%  \\\n",
       "Promo                                                                    \n",
       "0      629129.0  4406.050805  3442.450020  0.0     0.0  4622.0  6367.0   \n",
       "1      388080.0  7991.152046  3419.025495  0.0  5922.0  7553.0  9603.0   \n",
       "\n",
       "           max  \n",
       "Promo           \n",
       "0      41551.0  \n",
       "1      38722.0  "
      ]
     },
     "execution_count": 20,
     "metadata": {},
     "output_type": "execute_result"
    }
   ],
   "source": [
    "train_store.groupby('Promo')['Sales'].describe()"
   ]
  },
  {
   "cell_type": "code",
   "execution_count": 21,
   "metadata": {},
   "outputs": [
    {
     "data": {
      "text/plain": [
       "<seaborn.axisgrid.FacetGrid at 0x7f292489e710>"
      ]
     },
     "execution_count": 21,
     "metadata": {},
     "output_type": "execute_result"
    },
    {
     "data": {
      "image/png": "[encoded data removed]",
      "text/plain": [
       "<matplotlib.figure.Figure at 0x7f293f1ca090>"
      ]
     },
     "metadata": {},
     "output_type": "display_data"
    }
   ],
   "source": [
    "# 销售额均值-对比有无促销(Promo)\n",
    "sns.factorplot(data = train_store, x = 'Month', y = \"Sales\", \n",
    "               col = 'Promo', \n",
    "               palette = 'plasma',\n",
    "               hue = 'Promo',\n",
    "               ) "
   ]
  },
  {
   "cell_type": "code",
   "execution_count": 22,
   "metadata": {},
   "outputs": [
    {
     "data": {
      "text/plain": [
       "<seaborn.axisgrid.FacetGrid at 0x7f29431bc150>"
      ]
     },
     "execution_count": 22,
     "metadata": {},
     "output_type": "execute_result"
    },
    {
     "data": {
      "image/png": "[encoded data removed]",
      "text/plain": [
       "<matplotlib.figure.Figure at 0x7f29303ea510>"
      ]
     },
     "metadata": {},
     "output_type": "display_data"
    }
   ],
   "source": [
    "# 销售额均值-对比有无促销(Promo)\n",
    "sns.factorplot(data = train_store, x = 'Month', y = \"Sales\", \n",
    "               col = 'Promo', \n",
    "               palette = 'plasma',\n",
    "               hue = 'StoreType') "
   ]
  },
  {
   "cell_type": "code",
   "execution_count": 23,
   "metadata": {},
   "outputs": [
    {
     "data": {
      "text/plain": [
       "<seaborn.axisgrid.FacetGrid at 0x7f292f3c3e10>"
      ]
     },
     "execution_count": 23,
     "metadata": {},
     "output_type": "execute_result"
    },
    {
     "data": {
      "image/png": "[encoded data removed]",
      "text/plain": [
       "<matplotlib.figure.Figure at 0x7f29305bb210>"
      ]
     },
     "metadata": {},
     "output_type": "display_data"
    }
   ],
   "source": [
    "# 各门店销售额均值-按促销时间段\n",
    "sns.factorplot(data = train_store, x = 'PromoInterval', y = \"Sales\", \n",
    "               col = 'StoreType', \n",
    "               palette = 'plasma',\n",
    "               hue = 'StoreType') "
   ]
  },
  {
   "cell_type": "code",
   "execution_count": 24,
   "metadata": {
    "collapsed": true
   },
   "outputs": [],
   "source": [
    "#对测试集和训练集分别features和object的区分\n",
    "X_train = pd.merge(train_data, store_etc, how = 'inner', on = 'Store').drop('Sales',axis=1)\n",
    "Y_train = pd.merge(train_data, store_etc, how = 'inner', on = 'Store')['Sales']\n",
    "X_test = pd.merge(test_data, store_etc, how = 'inner', on = 'Store').drop('Sales',axis=1)\n",
    "Y_test = pd.merge(test_data, store_etc, how = 'inner', on = 'Store')['Sales']"
   ]
  },
  {
   "cell_type": "code",
   "execution_count": 25,
   "metadata": {
    "collapsed": true
   },
   "outputs": [],
   "source": [
    "# 导入 train_test_split\n",
    "from sklearn.model_selection import train_test_split\n",
    "# 将'X_train'和'y_train'进一步切分为训练集和验证集\n",
    "X_train, X_val, Y_train, Y_val = train_test_split(X_train, Y_train, test_size=0.2, random_state=0)"
   ]
  },
  {
   "cell_type": "code",
   "execution_count": 27,
   "metadata": {
    "collapsed": true
   },
   "outputs": [],
   "source": [
    "#该评价指标用来评价模型好坏  \n",
    "def rmspe(real,predict):  \n",
    "    #对训练集分出的Y_Val数列化\n",
    "    real=list(real)\n",
    "    #sum_value\n",
    "    sum_value=0.0  \n",
    "    # count_num作为非零计数,在此指标中,假如真实Y为零,计算会出现错误,所以排除真实销售为零的干扰\n",
    "    count_num=0\n",
    "    for i in range(len(real)):\n",
    "        if real[i] == 0:\n",
    "            continue\n",
    "        else:\n",
    "            v1=((real[i]-predict[i])/real[i])**2  \n",
    "            sum_value += v1\n",
    "            count_num += 1\n",
    "    v2=sum_value / count_num\n",
    "    v3=np.sqrt(v2)\n",
    "    return v3  "
   ]
  },
  {
   "cell_type": "code",
   "execution_count": 30,
   "metadata": {
    "collapsed": true
   },
   "outputs": [],
   "source": [
    "dtrain=xgb.DMatrix(train_data, label=None, missing=None, weight=None, silent=False, feature_names=None, feature_types=None, nthread=None)"
   ]
  },
  {
   "cell_type": "code",
   "execution_count": 28,
   "metadata": {
    "collapsed": true
   },
   "outputs": [],
   "source": [
    "def train_predict(model, sample_size, X_train, y_train, X_val, y_val): \n",
    "    '''\n",
    "    inputs:\n",
    "       - model: 模型\n",
    "       - sample_size: sample大小\n",
    "       - X_train: 训练集特征\n",
    "       - Y_train: 训练集的销售额\n",
    "       - X_val: 验证集特征\n",
    "       - Y_val: 验证集的销售额\n",
    "    '''\n",
    "    \n",
    "    results = {}\n",
    "    \n",
    "    # TODO：使用sample_size大小的训练数据来拟合模型\n",
    "    start = time() # 获得程序开始时间\n",
    "    model = model.fit(X_train[:sample_size],y_train[:sample_size])\n",
    "    end = time() # 获得程序结束时间\n",
    "    \n",
    "    # TODO：计算训练时间\n",
    "    results['train_time'] = end-start\n",
    "    \n",
    "    # TODO: 得到在验证集上的预测值\n",
    "    start = time() # 获得程序开始时间\n",
    "    predictions_val = model.predict(X_val)\n",
    "    end = time() # 获得程序结束时间\n",
    "    \n",
    "    # TODO：计算预测用时\n",
    "    results['pred_time'] = end-start\n",
    "               \n",
    "    # TODO：计算验证集上的rmspe-score\n",
    "    results['RMSPE'] = rmspe(Y_val,predictions_val)\n",
    "       \n",
    "    # 成功\n",
    "    print \"{} 训练了{} 个samples.\".format(model.__class__.__name__, sample_size)\n",
    "        \n",
    "    # 返回结果\n",
    "    return results"
   ]
  },
  {
   "cell_type": "code",
   "execution_count": 29,
   "metadata": {},
   "outputs": [
    {
     "name": "stdout",
     "output_type": "stream",
     "text": [
      "XGBRegressor 训练了7825 个samples.\n",
      "训练时间花费1.45秒,预测时间花费为0.11秒,RMSPE值为0.90296\n",
      "XGBRegressor 训练了78254 个samples.\n",
      "训练时间花费2.69秒,预测时间花费为0.11秒,RMSPE值为0.90298\n",
      "XGBRegressor 训练了782547 个samples.\n",
      "训练时间花费11.80秒,预测时间花费为0.12秒,RMSPE值为0.90287\n"
     ]
    }
   ],
   "source": [
    "# 载入xgboost\n",
    "model = xgb.XGBRegressor(booster='gbtree',learning_rate=0.001,max_depth=10,tree_method='gpu_hist',random_state=0,n_estimators=100,base_score=0.5)\n",
    "# TODO：计算1%， 10%， 100%的训练数据分别对应多少点\n",
    "samples_1 = int(X_train.shape[0] * 0.01)\n",
    "samples_10 = int(X_train.shape[0] * 0.1)\n",
    "samples_100 = int(X_train.shape[0] * 1)\n",
    "# 收集模型的结果\n",
    "results = {}\n",
    "for i in [samples_1, samples_10, samples_100]:\n",
    "    results[i] = train_predict(model, i, X_train, Y_train, X_val, Y_val)\n",
    "#     打印训练时间格式精确到小数点两位\n",
    "    print \"训练时间花费{:.2f}秒,预测时间花费为{:.2f}秒,RMSPE值为{:.5f}\".format(results[i]['train_time'],results[i]['pred_time'],results[i]['RMSPE'])"
   ]
  },
  {
   "cell_type": "code",
   "execution_count": 29,
   "metadata": {},
   "outputs": [
    {
     "data": {
      "text/plain": [
       "<matplotlib.axes._subplots.AxesSubplot at 0x15cf69e8>"
      ]
     },
     "execution_count": 29,
     "metadata": {},
     "output_type": "execute_result"
    },
    {
     "data": {
      "image/png": "[encoded data removed]",
      "text/plain": [
       "<matplotlib.figure.Figure at 0x455b5e10>"
      ]
     },
     "metadata": {},
     "output_type": "display_data"
    }
   ],
   "source": [
    "xgb.plot_importance(model,max_num_features=15)"
   ]
  },
  {
   "cell_type": "code",
   "execution_count": 30,
   "metadata": {},
   "outputs": [
    {
     "name": "stdout",
     "output_type": "stream",
     "text": [
      "0.912664487874\n"
     ]
    }
   ],
   "source": [
    "predict_test = model.predict(X_test)\n",
    "print rmspe(Y_test,predict_test)"
   ]
  },
  {
   "cell_type": "code",
   "execution_count": 31,
   "metadata": {},
   "outputs": [
    {
     "name": "stdout",
     "output_type": "stream",
     "text": [
      "XGBRegressor 训练了7825 个samples.\n",
      "训练时间花费4.86秒,预测时间花费为0.25秒,RMSPE值为0.57905\n",
      "XGBRegressor 训练了78254 个samples.\n",
      "训练时间花费19.20秒,预测时间花费为0.27秒,RMSPE值为0.57778\n",
      "XGBRegressor 训练了782547 个samples.\n",
      "训练时间花费45.95秒,预测时间花费为0.26秒,RMSPE值为0.57681\n"
     ]
    }
   ],
   "source": [
    "final_model = xgb.XGBRegressor(booster='gbtree',learning_rate=0.003,max_depth=10,tree_method='gpu_hist',random_state=0,n_estimators=180,base_score=0.5)\n",
    "# TODO：计算1%， 10%， 100%的训练数据分别对应多少点\n",
    "samples_1 = int(X_train.shape[0] * 0.01)\n",
    "samples_10 = int(X_train.shape[0] * 0.1)\n",
    "samples_100 = int(X_train.shape[0] * 1)\n",
    "# 收集模型的结果\n",
    "results = {}\n",
    "for i in [samples_1, samples_10, samples_100]:\n",
    "    results[i] = train_predict(final_model, i, X_train, Y_train, X_val, Y_val)\n",
    "#     打印训练时间格式精确到小数点两位\n",
    "    print \"训练时间花费{:.2f}秒,预测时间花费为{:.2f}秒,RMSPE值为{:.5f}\".format(results[i]['train_time'],results[i]['pred_time'],results[i]['RMSPE'])"
   ]
  },
  {
   "cell_type": "code",
   "execution_count": 32,
   "metadata": {},
   "outputs": [
    {
     "data": {
      "text/plain": [
       "<matplotlib.axes._subplots.AxesSubplot at 0x58b10898>"
      ]
     },
     "execution_count": 32,
     "metadata": {},
     "output_type": "execute_result"
    },
    {
     "data": {
      "image/png": "[encoded data removed]",
      "text/plain": [
       "<matplotlib.figure.Figure at 0x33708978>"
      ]
     },
     "metadata": {},
     "output_type": "display_data"
    }
   ],
   "source": [
    "xgb.plot_importance(final_model,max_num_features=15)"
   ]
  },
  {
   "cell_type": "code",
   "execution_count": 33,
   "metadata": {},
   "outputs": [
    {
     "name": "stdout",
     "output_type": "stream",
     "text": [
      "0.692573615736\n"
     ]
    }
   ],
   "source": [
    "predict_test = final_model.predict(X_test)\n",
    "print rmspe(Y_test,predict_test)"
   ]
  }
 ],
 "metadata": {
  "kernelspec": {
   "display_name": "Python 2",
   "language": "python",
   "name": "python2"
  },
  "language_info": {
   "codemirror_mode": {
    "name": "ipython",
    "version": 2
   },
   "file_extension": ".py",
   "mimetype": "text/x-python",
   "name": "python",
   "nbconvert_exporter": "python",
   "pygments_lexer": "ipython2",
   "version": "2.7.14"
  }
 },
 "nbformat": 4,
 "nbformat_minor": 2
}
